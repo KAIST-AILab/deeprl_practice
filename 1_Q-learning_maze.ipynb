{
 "cells": [
  {
   "cell_type": "markdown",
   "metadata": {},
   "source": [
    "# Q Learning 실습"
   ]
  },
  {
   "cell_type": "code",
   "execution_count": 1,
   "metadata": {},
   "outputs": [],
   "source": [
    "# MIT License\n",
    "#\n",
    "# Copyright (c) 2016 Matthew Chan\n",
    "#\n",
    "# Permission is hereby granted, free of charge, to any person obtaining a copy\n",
    "# of this software and associated documentation files (the \"Software\"), to deal\n",
    "# in the Software without restriction, including without limitation the rights\n",
    "# to use, copy, modify, merge, publish, distribute, sublicense, and/or sell\n",
    "# copies of the Software, and to permit persons to whom the Software is\n",
    "# furnished to do so, subject to the following conditions:\n",
    "#\n",
    "# The above copyright notice and this permission notice shall be included in all\n",
    "# copies or substantial portions of the Software.\n",
    "#\n",
    "# THE SOFTWARE IS PROVIDED \"AS IS\", WITHOUT WARRANTY OF ANY KIND, EXPRESS OR\n",
    "# IMPLIED, INCLUDING BUT NOT LIMITED TO THE WARRANTIES OF MERCHANTABILITY,\n",
    "# FITNESS FOR A PARTICULAR PURPOSE AND NONINFRINGEMENT. IN NO EVENT SHALL THE\n",
    "# AUTHORS OR COPYRIGHT HOLDERS BE LIABLE FOR ANY CLAIM, DAMAGES OR OTHER\n",
    "# LIABILITY, WHETHER IN AN ACTION OF CONTRACT, TORT OR OTHERWISE, ARISING FROM,\n",
    "# OUT OF OR IN CONNECTION WITH THE SOFTWARE OR THE USE OR OTHER DEALINGS IN THE\n",
    "# SOFTWARE."
   ]
  },
  {
   "cell_type": "code",
   "execution_count": 4,
   "metadata": {},
   "outputs": [],
   "source": [
    "import os\n",
    "os.environ[\"SDL_VIDEODRIVER\"] = \"dummy\"\n",
    "os.environ[\"PATH\"] = os.getcwd()+':'+os.environ[\"PATH\"]\n",
    "\n",
    "import matplotlib.pyplot as plt\n",
    "%matplotlib inline\n",
    "#plt.switch_backend('agg')\n",
    "import sys\n",
    "import numpy as np\n",
    "import math\n",
    "import random\n",
    "import gym\n",
    "import gym_maze\n",
    "from IPython import display"
   ]
  },
  {
   "cell_type": "code",
   "execution_count": 5,
   "metadata": {},
   "outputs": [
    {
     "data": {
      "text/plain": [
       "'/home/deeprl/deeprl_practice:/home/deeprl/deeprl_practice:/home/deeprl/anaconda3/envs/deeprl/bin:/home/deeprl/anaconda3/envs/deeprl/bin:/home/deeprl/bin:/home/deeprl/.local/bin:/home/deeprl/anaconda3/bin:/usr/local/sbin:/usr/local/bin:/usr/sbin:/usr/bin:/sbin:/bin:/usr/games:/usr/local/games:/snap/bin'"
      ]
     },
     "execution_count": 5,
     "metadata": {},
     "output_type": "execute_result"
    }
   ],
   "source": [
    "os.environ[\"PATH\"]"
   ]
  },
  {
   "cell_type": "code",
   "execution_count": 6,
   "metadata": {},
   "outputs": [],
   "source": [
    "def select_action(state, explore_rate):\n",
    "    # Experiment 1, Problem 1: Select action by epsilon greedy\n",
    "    ########################################\n",
    "    # \"exploration_rate\" which is the input attribute of this function\n",
    "    # is same as the epsilon probability in epsilon-greedy\n",
    "    ############################ Implement Here ############################\n",
    "    # Select a random action\n",
    "    if random.random() < explore_rate:\n",
    "        action = env.action_space.sample()\n",
    "    # Select the action with the highest q\n",
    "    else:\n",
    "        action = int(np.argmax(q_table[state]))\n",
    "    return action\n",
    "   ########################################################################"
   ]
  },
  {
   "cell_type": "code",
   "execution_count": 7,
   "metadata": {},
   "outputs": [],
   "source": [
    "def state_to_bucket(state):\n",
    "    bucket_indice = []\n",
    "    for i in range(len(state)):\n",
    "        # len(state) = 2 (cartesian coord)\n",
    "        if state[i] <= STATE_BOUNDS[i][0]:\n",
    "            bucket_index = 0\n",
    "            \n",
    "        elif state[i] >= STATE_BOUNDS[i][1]:\n",
    "            bucket_index = NUM_BUCKETS[i] - 1\n",
    "            \n",
    "        else:\n",
    "            # Mapping the state bounds to the bucket array\n",
    "            bound_width = STATE_BOUNDS[i][1] - STATE_BOUNDS[i][0]\n",
    "            # bound width = 9.0 for 10x10\n",
    "            offset = (NUM_BUCKETS[i]-1)*STATE_BOUNDS[i][0]/bound_width\n",
    "            # offset = 0.0 for 10x10\n",
    "            scaling = (NUM_BUCKETS[i]-1)/bound_width\n",
    "            # scaling = 1.0 for 10x10\n",
    "            bucket_index = int(round(scaling*state[i] - offset))\n",
    "            # bucket_index <-- changes\n",
    "            \n",
    "        bucket_indice.append(bucket_index)\n",
    "        # bucket_indice is the x,y coordinate of current position(0,0) is the top left corner\n",
    "        \n",
    "    return tuple(bucket_indice)"
   ]
  },
  {
   "cell_type": "code",
   "execution_count": 8,
   "metadata": {},
   "outputs": [],
   "source": [
    "def learn_q_val():\n",
    "    # Instantiating the learning related parameters\n",
    "    learning_rate = get_learning_rate(0)\n",
    "    explore_rate = get_explore_rate(0)\n",
    "    discount_factor = 0.99\n",
    "    num_streaks = 0\n",
    "    RENDER_PERIOD = 10\n",
    "    # Render the maze\n",
    "    # env.render()\n",
    "    render_img = env.render(mode='rgb_array')\n",
    "    for episode in range(NUM_EPISODES):\n",
    "        display.clear_output(wait=True)\n",
    "        # Reset the environment\n",
    "        obv = env.reset() # obv = [0. 0.]       \n",
    "        state_0 = state_to_bucket(obv)  # the initial state\n",
    "        # (0,0)\n",
    "        total_reward = 0\n",
    "\n",
    "        for t in range(MAX_T):\n",
    "            # Select an action\n",
    "            action = select_action(state_0, explore_rate)\n",
    "            # execute the action\n",
    "            obv, reward, done, _ = env.step(action)\n",
    "            # A reward of 1 is given when the agent reaches the goal.\n",
    "            # For every step in the maze, the agent recieves a reward of -0.1/(number of cells in the maze).\n",
    "            # Observe the result\n",
    "            state = state_to_bucket(obv)\n",
    "            # state: x, y coordinate of the current position.\n",
    "            # (0,0) is the top left corner\n",
    "            total_reward += reward\n",
    "            # Experiment 1, Problem 2:  Update the Q based on the transition info\n",
    "            # state_0: s\n",
    "            # action: a\n",
    "            # state: s'\n",
    "            # reward: r(s,a)\n",
    "            # best_q: max_a' Q(s',a')\n",
    "            ############################ Implement Here ###################################\n",
    "            best_q = np.amax(q_table[state])\n",
    "            # best_q: maximum Q-value in the q_table given state(or s' as written in the lecture material)\n",
    "            q_table[state_0 + (action,)] += \\\n",
    "                learning_rate * (reward + discount_factor * (best_q) - q_table[state_0 + (action,)])\n",
    "            ########################################################################\n",
    "            # Setting up for the next iteration\n",
    "            state_0 = state\n",
    "\n",
    "            # Print data\n",
    "            if DEBUG_MODE == 2:\n",
    "                print(\"\\nEpisode = %d\" % episode)\n",
    "                print(\"t = %d\" % t)\n",
    "                print(\"Action: %d\" % action)\n",
    "                print(\"State: %s\" % str(state))\n",
    "                print(\"Reward: %f\" % reward)\n",
    "                print(\"Best Q: %f\" % best_q)\n",
    "                print(\"Explore rate: %f\" % explore_rate)\n",
    "                print(\"Learning rate: %f\" % learning_rate)\n",
    "                print(\"Streaks: %d\" % num_streaks)\n",
    "                print(\"\")\n",
    "\n",
    "            elif DEBUG_MODE == 1:\n",
    "                if done or t >= MAX_T - 1:\n",
    "                    print(\"\\nEpisode = %d\" % episode)\n",
    "                    print(\"t = %d\" % t)\n",
    "                    print(\"Explore rate: %f\" % explore_rate)\n",
    "                    print(\"Learning rate: %f\" % learning_rate)\n",
    "                    print(\"Streaks: %d\" % num_streaks)\n",
    "                    print(\"Total reward: %f\" % total_reward)\n",
    "                    print(\"\")\n",
    "                    \n",
    "                # Render the maze\n",
    "                if RENDER_MAZE:\n",
    "                    render_img = env.render(mode='rgb_array')\n",
    "                    \n",
    "               #if env.is_game_over():\n",
    "               #    sys.exit()\n",
    "\n",
    "                if done:\n",
    "                    print(\"Episode %d finished after %f time steps with total reward = %f (streak %d).\"\n",
    "                         % (episode, t, total_reward, num_streaks))\n",
    "\n",
    "                    if t <= SOLVED_T:\n",
    "                        num_streaks += 1\n",
    "                    else:\n",
    "                        num_streaks = 0\n",
    "                    break\n",
    "\n",
    "                elif t >= MAX_T - 1:\n",
    "                    print(\"Episode %d timed out at %d with total reward = %f.\"\n",
    "                         % (episode, t, total_reward))\n",
    "\n",
    "        # Experiment 1, Problem 3:  Plot state-value table (V-table) with pyplot\n",
    "        # Assume that we use greedy policy to compute this\n",
    "\n",
    "        ############################ Implement Here ###################################\n",
    "        ##### you might have to switch  axis 0 and 1 to match the maze image ##########\n",
    "        ###############################################################################\n",
    "        \n",
    "        temp = np.array(q_table)\n",
    "        v_table = np.amax(temp, axis=2)\n",
    "        v_table = np.swapaxes(v_table, 0, 1)\n",
    "        \n",
    "        fig = plt.figure()\n",
    "        ax1 = fig.add_subplot(1, 1, 1)\n",
    "        #ax2 = fig.add_subplot(2, 1, 2)\n",
    "        #fig, ax = plt.subplots()\n",
    "        \n",
    "        im = ax1.imshow(v_table, cmap='plasma')\n",
    "        # ax2.imshow(render_img)\n",
    "        #     ax.set_title(interp_method)\n",
    "        # plt.show()\n",
    "        fig.colorbar(im, orientation='vertical')\n",
    "        plt.show()\n",
    "        # plt.savefig(\"test.png\")\n",
    "        ###############################################################################\n",
    "\n",
    "        # It's considered done when it's solved over 120 times consecutively\n",
    "        if num_streaks > STREAK_TO_END:\n",
    "            break\n",
    "\n",
    "        # Update parameters\n",
    "        explore_rate = get_explore_rate(episode)\n",
    "        learning_rate = get_learning_rate(episode)"
   ]
  },
  {
   "cell_type": "code",
   "execution_count": 9,
   "metadata": {},
   "outputs": [],
   "source": [
    "def get_explore_rate(t):\n",
    "    return max(MIN_EXPLORE_RATE, min(0.8, 1.0 - math.log10((t+1)/DECAY_FACTOR)))"
   ]
  },
  {
   "cell_type": "code",
   "execution_count": 10,
   "metadata": {},
   "outputs": [],
   "source": [
    "def get_learning_rate(t):\n",
    "    return max(MIN_LEARNING_RATE, min(0.8, 1.0 - math.log10((t+1)/DECAY_FACTOR)))"
   ]
  },
  {
   "cell_type": "code",
   "execution_count": 11,
   "metadata": {
    "scrolled": true
   },
   "outputs": [
    {
     "name": "stdout",
     "output_type": "stream",
     "text": [
      "pygame 1.9.4\n",
      "Hello from the pygame community. https://www.pygame.org/contribute.html\n",
      "\u001b[33mWARN: gym.spaces.Box autodetected dtype as <class 'numpy.float32'>. Please provide explicit dtype.\u001b[0m\n",
      "\u001b[33mWARN: Environment '<class 'gym_maze.envs.maze_env.MazeEnvSample10x10'>' has deprecated methods '_step' and '_reset' rather than 'step' and 'reset'. Compatibility code invoked. Set _gym_disable_underscore_compat = True to disable this behavior.\u001b[0m\n"
     ]
    },
    {
     "data": {
      "text/plain": [
       "'\\nBegin simulation\\n'"
      ]
     },
     "execution_count": 11,
     "metadata": {},
     "output_type": "execute_result"
    }
   ],
   "source": [
    "#if __name__ == \"__main__\":\n",
    "# Initialize the \"maze\" environment\n",
    "env = gym.make(\"maze-sample-10x10-v0\")\n",
    "\n",
    "'''\n",
    "Defining the environment related constants\n",
    "'''\n",
    "\n",
    "# Number of discrete states (bucket) per state dimension\n",
    "MAZE_SIZE = tuple((env.observation_space.high + np.ones(env.observation_space.shape)).astype(int))\n",
    "# env.observation_space.low = [0. 0.]\n",
    "# env.observation_space.high = [9. 9.]\n",
    "# env.observation_space.shape = (2,)\n",
    "# (env.observation_space.high + np.ones(env.observation_space.shape)).astype(int) = [10. 10.]   \n",
    "NUM_BUCKETS = MAZE_SIZE  # one bucket per grid\n",
    "# Number of discrete actions\n",
    "NUM_ACTIONS = env.action_space.n  # [\"N\", \"S\", \"E\", \"W\"]\n",
    "# env.action_space = Discrete(4)\n",
    "# env.action_space.n = 4\n",
    "# Bounds for each discrete state\n",
    "STATE_BOUNDS = list(zip(env.observation_space.low, env.observation_space.high))\n",
    "# STATE_BOUNDS = [(0.0, 9.0), (0.0, 9.0)]\n",
    "\n",
    "'''\n",
    "Learning related constants\n",
    "'''\n",
    "MIN_EXPLORE_RATE = 0.001\n",
    "MIN_LEARNING_RATE = 0.2\n",
    "DECAY_FACTOR = np.prod(MAZE_SIZE, dtype=float) / 10.0\n",
    "# DECAY_FACTOR = 10x10/10.0 for a 10x10 maze\n",
    "\n",
    "'''\n",
    "Defining the simulation related constants\n",
    "'''\n",
    "NUM_EPISODES = 50000\n",
    "MAX_T = np.prod(MAZE_SIZE, dtype=int) * 100\n",
    "# MAX_T==10000\n",
    "# MAZE_SIZE=(10, 10)\n",
    "STREAK_TO_END = 100\n",
    "\n",
    "# If the agent has executed action as much as the number of discrete positions (SOLVED_T) in the maze\n",
    "# and still have not found the exit, then streak increases.\n",
    "SOLVED_T = np.prod(MAZE_SIZE, dtype=int)\n",
    "DEBUG_MODE = 0\n",
    "RENDER_MAZE = True\n",
    "\n",
    "'''\n",
    "Creating a Q-Table for each state-action pair\n",
    "'''\n",
    "q_table = np.zeros(NUM_BUCKETS + (NUM_ACTIONS,), dtype=float)\n",
    "# NUM_BUCKETS = (10, 10) for a 10x10 maze (number of cells in each axis of maze)   \n",
    "# NUM_ACTIONS = 4 for moving NEWS\n",
    "# q_table size: 10x10x4 for a 10x10 maze\n",
    "\n",
    "'''\n",
    "Begin simulation\n",
    "'''\n",
    "# recording_folder = \"/tmp/maze_q_learning\"\n",
    "\n",
    "#learn_q_val()\n"
   ]
  },
  {
   "cell_type": "code",
   "execution_count": 12,
   "metadata": {},
   "outputs": [
    {
     "ename": "KeyboardInterrupt",
     "evalue": "",
     "output_type": "error",
     "traceback": [
      "\u001b[0;31m---------------------------------------------------------------------------\u001b[0m",
      "\u001b[0;31mKeyboardInterrupt\u001b[0m                         Traceback (most recent call last)",
      "\u001b[0;32m<ipython-input-12-ba7030869ddf>\u001b[0m in \u001b[0;36m<module>\u001b[0;34m()\u001b[0m\n\u001b[0;32m----> 1\u001b[0;31m \u001b[0mlearn_q_val\u001b[0m\u001b[0;34m(\u001b[0m\u001b[0;34m)\u001b[0m\u001b[0;34m\u001b[0m\u001b[0m\n\u001b[0m",
      "\u001b[0;32m<ipython-input-8-f82e75b20d7a>\u001b[0m in \u001b[0;36mlearn_q_val\u001b[0;34m()\u001b[0m\n\u001b[1;32m     36\u001b[0m             \u001b[0;31m# best_q: max_a' Q(s',a')\u001b[0m\u001b[0;34m\u001b[0m\u001b[0;34m\u001b[0m\u001b[0m\n\u001b[1;32m     37\u001b[0m             \u001b[0;31m############################ Implement Here ###################################\u001b[0m\u001b[0;34m\u001b[0m\u001b[0;34m\u001b[0m\u001b[0m\n\u001b[0;32m---> 38\u001b[0;31m             \u001b[0mbest_q\u001b[0m \u001b[0;34m=\u001b[0m \u001b[0mnp\u001b[0m\u001b[0;34m.\u001b[0m\u001b[0mamax\u001b[0m\u001b[0;34m(\u001b[0m\u001b[0mq_table\u001b[0m\u001b[0;34m[\u001b[0m\u001b[0mstate\u001b[0m\u001b[0;34m]\u001b[0m\u001b[0;34m)\u001b[0m\u001b[0;34m\u001b[0m\u001b[0m\n\u001b[0m\u001b[1;32m     39\u001b[0m             \u001b[0;31m# best_q: maximum Q-value in the q_table given state(or s' as written in the lecture material)\u001b[0m\u001b[0;34m\u001b[0m\u001b[0;34m\u001b[0m\u001b[0m\n\u001b[1;32m     40\u001b[0m             \u001b[0mq_table\u001b[0m\u001b[0;34m[\u001b[0m\u001b[0mstate_0\u001b[0m \u001b[0;34m+\u001b[0m \u001b[0;34m(\u001b[0m\u001b[0maction\u001b[0m\u001b[0;34m,\u001b[0m\u001b[0;34m)\u001b[0m\u001b[0;34m]\u001b[0m \u001b[0;34m+=\u001b[0m                 \u001b[0mlearning_rate\u001b[0m \u001b[0;34m*\u001b[0m \u001b[0;34m(\u001b[0m\u001b[0mreward\u001b[0m \u001b[0;34m+\u001b[0m \u001b[0mdiscount_factor\u001b[0m \u001b[0;34m*\u001b[0m \u001b[0;34m(\u001b[0m\u001b[0mbest_q\u001b[0m\u001b[0;34m)\u001b[0m \u001b[0;34m-\u001b[0m \u001b[0mq_table\u001b[0m\u001b[0;34m[\u001b[0m\u001b[0mstate_0\u001b[0m \u001b[0;34m+\u001b[0m \u001b[0;34m(\u001b[0m\u001b[0maction\u001b[0m\u001b[0;34m,\u001b[0m\u001b[0;34m)\u001b[0m\u001b[0;34m]\u001b[0m\u001b[0;34m)\u001b[0m\u001b[0;34m\u001b[0m\u001b[0m\n",
      "\u001b[0;31mKeyboardInterrupt\u001b[0m: "
     ]
    }
   ],
   "source": [
    "learn_q_val()"
   ]
  },
  {
   "cell_type": "code",
   "execution_count": null,
   "metadata": {},
   "outputs": [],
   "source": []
  }
 ],
 "metadata": {
  "kernelspec": {
   "display_name": "deeprl",
   "language": "python",
   "name": "deeprl"
  },
  "language_info": {
   "codemirror_mode": {
    "name": "ipython",
    "version": 3
   },
   "file_extension": ".py",
   "mimetype": "text/x-python",
   "name": "python",
   "nbconvert_exporter": "python",
   "pygments_lexer": "ipython3",
   "version": "3.6.6"
  }
 },
 "nbformat": 4,
 "nbformat_minor": 2
}
